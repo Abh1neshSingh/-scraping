{
 "cells": [
  {
   "cell_type": "code",
   "execution_count": 31,
   "id": "8d77df0e-817e-478b-878c-ffc05c7115b0",
   "metadata": {},
   "outputs": [],
   "source": [
    "import requests\n",
    "from bs4 import BeautifulSoup\n",
    "from urllib.request import urlopen as uReg\n",
    "import os"
   ]
  },
  {
   "cell_type": "code",
   "execution_count": 32,
   "id": "89000eec-01e5-4566-8127-9ed10fc15fac",
   "metadata": {},
   "outputs": [],
   "source": [
    "save_dir= \"images/\"\n",
    "if not os.path.exists(save_dir):\n",
    "    os.makedirs(save_dir)"
   ]
  },
  {
   "cell_type": "code",
   "execution_count": 33,
   "id": "ef1af160-dee2-4735-8850-e705bf062a2e",
   "metadata": {},
   "outputs": [],
   "source": [
    "query = \"modi ji\"\n",
    "response =requests.get(f\"https://www.google.com/search?q={query}&sca_esv=eff03c613f9494ac&tbm=isch&sxsrf=ACQVn0_GDZvyHB_bP5onHLRDIASc6ntI5g%3A1707416767172&source=hp&biw=620&bih=813&ei=vxzFZdvYCJjh2roPtOSs2A8&iflsig=ANes7DEAAAAAZcUqz7PSPAebpV4mrd4_-kNvAToBOqYb&ved=0ahUKEwibtI6Pr5yEAxWYsFYBHTQyC_sQ4dUDCAc&uact=5&oq=sudhanshu+kumar+ineuron&gs_lp=EgNpbWciF3N1ZGhhbnNodSBrdW1hciBpbmV1cm9uMgUQABiABDIHEAAYgAQYGEiTC1CIBliIBnABeACQAQCYAcICoAHCAqoBAzMtMbgBA8gBAPgBAvgBAYoCC2d3cy13aXotaW1nqAIBwgIHECMY6gIYJw&sclient=img\")"
   ]
  },
  {
   "cell_type": "code",
   "execution_count": 34,
   "id": "e08c97bf-5d61-4d41-8235-d47d97adffce",
   "metadata": {},
   "outputs": [
    {
     "data": {
      "text/plain": [
       "<Response [200]>"
      ]
     },
     "execution_count": 34,
     "metadata": {},
     "output_type": "execute_result"
    }
   ],
   "source": [
    "response"
   ]
  },
  {
   "cell_type": "code",
   "execution_count": 35,
   "id": "149a1886-2881-4a22-b89d-d3380f052727",
   "metadata": {},
   "outputs": [],
   "source": [
    "soup=BeautifulSoup(response.content,'html.parser')"
   ]
  },
  {
   "cell_type": "code",
   "execution_count": 36,
   "id": "179b986c-eed5-42cd-b396-07fd18143cba",
   "metadata": {},
   "outputs": [
    {
     "data": {
      "text/plain": [
       "<!DOCTYPE html PUBLIC \"-//WAPFORUM//DTD XHTML Mobile 1.0//EN\" \"http://www.wapforum.org/DTD/xhtml-mobile10.dtd\">\n",
       "<html lang=\"en-IN\" xmlns=\"http://www.w3.org/1999/xhtml\"><head><meta content=\"application/xhtml+xml; charset=utf-8\" http-equiv=\"Content-Type\"/><meta content=\"no-cache\" name=\"Cache-Control\"/><title>modi ji - Google Search</title><style>a{text-decoration:none;color:inherit}a:hover{text-decoration:underline}a img{border:0}body{font-family:arial,sans-serif;padding:8px;margin:0 auto;max-width:700px;min-width:240px;}.FbhRzb{border-left:thin solid #dadce0;border-right:thin solid #dadce0;border-top:thin solid #dadce0;height:40px;overflow:hidden}.n692Zd{margin-bottom:10px}.cvifge{height:40px;border-spacing:0}.QvGUP{height:40px;padding:0 8px 0 8px;vertical-align:top}.O4cRJf{height:40px;width:100%;padding:0;padding-right:16px}.O1ePr{height:40px;padding:0;vertical-align:top}.kgJEQe{height:36px;width:98px;vertical-align:top;margin-top:4px}.lXLRf{vertical-align:top}.MhzMZd{border:0;vertical-align:middle;font-size:14px;height:40px;padding:0;width:100%;padding-left:16px}.xB0fq{height:40px;border:none;font-size:14px;background-color:#1a73e8;color:#fff;padding:0 16px;margin:0;vertical-align:top;cursor:pointer}.xB0fq:focus{border:1px solid #1a73e8}.M7pB2{border:thin solid #dadce0;margin:0 0 3px 0;font-size:13px;font-weight:500;height:40px}.euZec{width:100%;height:40px;text-align:center;border-spacing:0}table.euZec td{padding:0;width:25%}.QIqI7{display:inline-block;padding-top:4px;font-weight:bold;color:#4285f4}.EY24We{border-bottom:2px solid #4285f4}.CsQyDc{display:inline-block;color:#70757a}.TuS8Ad{font-size:14px}.HddGcc{padding:8px;color:#70757a}.dzp8ae{font-weight:bold;color:#3c4043}.rEM8G{color:#70757a}.bookcf{table-layout:fixed;width:100%;border-spacing:0}.InWNIe{text-align:center}.uZgmoc{border:thin solid #dadce0;color:#70757a;font-size:14px;text-align:center;table-layout:fixed;width:100%}.frGj1b{display:block;padding:12px 0 12px 0;width:100%}.BnJWBc{text-align:center;padding:6px 0 13px 0;height:35px}.e3goi{vertical-align:top;padding:0;height:180px}.GpQGbf{margin:auto;border-collapse:collapse;border-spacing:0;width:100%}</style></head><body><style>.X6ZCif{color:#202124;font-size:11px;line-height:16px;display:inline-block;padding-top:2px;overflow:hidden;padding-bottom:4px;width:100%}.TwVfHd{border-radius:16px;border:thin solid #dadce0;display:inline-block;padding:8px 8px;margin-right:8px;margin-bottom:4px}.yekiAe{background-color:#dadce0}.jjVJ4e{width:100%}.ezO2md{border:thin solid #dadce0;padding:12px 16px 12px 16px;margin-bottom:10px;font-family:arial,sans-serif}.lIMUZd{font-family:arial,sans-serif}.RntSmf{border-spacing:0}.lgD2Tc{width:100%}.SpelHe{text-align:center}.SpelHe{position:relative}.deHqpb{bottom:0;left:0;margin:auto;position:absolute;right:0;top:0}.kCmkOe{position:relative}.ID6Z3b{background-image:url(https://www.gstatic.com/search_trustx/visibility_off_icon_p0-7d897bf44bafe5436baa9009e8716337.png);background-repeat:no-repeat;background-position:center;background-size:20px}.kCmkOe{width:162px;height:140px;line-height:140px;overflow:'hidden';text-align:center}.DS1iW{text-align:center;margin:auto;vertical-align:middle;max-width:162px;max-height:140px}.AlD19d{padding-top:2px;padding-bottom:8px;}.fYyStc{word-break:break-word}.ynsChf{display:block;white-space:nowrap;overflow:hidden;text-overflow:ellipsis}.Fj3V3b{color:#1967d2;font-size:14px;line-height:20px}.FrIlee{color:#202124;font-size:11px;line-height:16px}.F9iS2e{color:#70757a;font-size:11px;line-height:16px}.WMQ2Le{color:#70757a;font-size:12px;line-height:16px}.x3G5ab{color:#202124;font-size:12px;line-height:16px}.fuLhoc{color:#1967d2;font-size:16px;line-height:20px}.epoveb{font-size:24px;line-height:28px;font-weight:400;color:#202124}.dXDvrc{color:#0d652d;font-size:14px;line-height:20px;word-wrap:break-word}.dloBPe{font-weight:bold}.YVIcad{color:#70757a}.JkVVdd{color:#ea4335}.oXZRFd{color:#ea4335}.MQHtg{color:#fbbc04}.pyMRrb{color:#1e8e3e}.EtTZid{color:#1e8e3e}.M3vVJe{color:#1967d2}.qXLe6d{display:block}.NHQNef{font-style:italic}.Cb8Z7c{white-space:pre}a.ZWRArf{text-decoration:none}a .CVA68e:hover{text-decoration:underline}</style><div class=\"n692Zd\"><div class=\"BnJWBc\"><a class=\"lXLRf\" href=\"/?sca_esv=eff03c613f9494ac&amp;biw=620&amp;bih=813&amp;output=images&amp;ie=UTF-8&amp;tbm=isch&amp;sa=X&amp;ved=0ahUKEwjsytSuupyEAxXCkq8BHbQMDuQQPAgC\"><img alt=\"Google\" class=\"kgJEQe\" src=\"/images/branding/searchlogo/1x/googlelogo_desk_heirloom_color_150x55dp.gif\"/></a></div><div class=\"FbhRzb\"><form action=\"/search\"><input name=\"sca_esv\" type=\"hidden\" value=\"eff03c613f9494ac\"/><input name=\"biw\" type=\"hidden\" value=\"620\"/><input name=\"bih\" type=\"hidden\" value=\"813\"/><input name=\"ie\" type=\"hidden\" value=\"ISO-8859-1\"/><input name=\"tbm\" type=\"hidden\" value=\"isch\"/><input name=\"oq\" type=\"hidden\"/><input name=\"aqs\" type=\"hidden\"/><table class=\"cvifge\"><tr><td class=\"O4cRJf\"><input class=\"MhzMZd\" name=\"q\" type=\"text\" value=\"modi ji\"/></td><td class=\"O1ePr\"><input class=\"xB0fq\" type=\"submit\" value=\"Search\"/></td></tr></table></form></div><div class=\"M7pB2\"><table class=\"euZec\"><tbody><tr><td><a class=\"CsQyDc\" href=\"/search?q=modi+ji&amp;sca_esv=eff03c613f9494ac&amp;biw=620&amp;bih=813&amp;ie=UTF-8&amp;source=lnms&amp;sa=X&amp;ved=0ahUKEwjsytSuupyEAxXCkq8BHbQMDuQQ_AUIBCgA\">ALL</a></td><td class=\"EY24We\"><span class=\"QIqI7\">IMAGES</span></td><td><a class=\"CsQyDc\" href=\"/search?q=modi+ji&amp;sca_esv=eff03c613f9494ac&amp;biw=620&amp;bih=813&amp;ie=UTF-8&amp;tbm=nws&amp;source=lnms&amp;sa=X&amp;ved=0ahUKEwjsytSuupyEAxXCkq8BHbQMDuQQ_AUIBigC\">NEWS</a></td><td><a class=\"CsQyDc\" href=\"/search?q=modi+ji&amp;sca_esv=eff03c613f9494ac&amp;biw=620&amp;bih=813&amp;ie=UTF-8&amp;tbm=vid&amp;source=lnms&amp;sa=X&amp;ved=0ahUKEwjsytSuupyEAxXCkq8BHbQMDuQQ_AUIBygD\">VIDEOS</a></td></tr></tbody></table></div></div><div class=\"X6ZCif\"><a class=\"TwVfHd\" href=\"/search?sca_esv=eff03c613f9494ac&amp;biw=620&amp;bih=813&amp;ie=UTF-8&amp;tbm=isch&amp;q=modi+ji&amp;chips=q:modi+ji,g_1:wallpaper&amp;sa=X&amp;ved=0ahUKEwjsytSuupyEAxXCkq8BHbQMDuQQ4lYICygA\">wallpaper</a><a class=\"TwVfHd\" href=\"/search?sca_esv=eff03c613f9494ac&amp;biw=620&amp;bih=813&amp;ie=UTF-8&amp;tbm=isch&amp;q=modi+ji&amp;chips=q:modi+ji,g_1:sketch&amp;sa=X&amp;ved=0ahUKEwjsytSuupyEAxXCkq8BHbQMDuQQ4lYIDCgB\">sketch</a><a class=\"TwVfHd\" href=\"/search?sca_esv=eff03c613f9494ac&amp;biw=620&amp;bih=813&amp;ie=UTF-8&amp;tbm=isch&amp;q=modi+ji&amp;chips=q:modi+ji,g_1:stylish&amp;sa=X&amp;ved=0ahUKEwjsytSuupyEAxXCkq8BHbQMDuQQ4lYIDSgC\">stylish</a><a class=\"TwVfHd\" href=\"/search?sca_esv=eff03c613f9494ac&amp;biw=620&amp;bih=813&amp;ie=UTF-8&amp;tbm=isch&amp;q=modi+ji&amp;chips=q:modi+ji,g_1:painting&amp;sa=X&amp;ved=0ahUKEwjsytSuupyEAxXCkq8BHbQMDuQQ4lYIDigD\">painting</a><a class=\"TwVfHd\" href=\"/search?sca_esv=eff03c613f9494ac&amp;biw=620&amp;bih=813&amp;ie=UTF-8&amp;tbm=isch&amp;q=modi+ji&amp;chips=q:modi+ji,g_1:swachh+bharat&amp;sa=X&amp;ved=0ahUKEwjsytSuupyEAxXCkq8BHbQMDuQQ4lYIDygE\">swachh bharat</a><a class=\"TwVfHd\" href=\"/search?sca_esv=eff03c613f9494ac&amp;biw=620&amp;bih=813&amp;ie=UTF-8&amp;tbm=isch&amp;q=modi+ji&amp;chips=q:modi+ji,g_1:animated&amp;sa=X&amp;ved=0ahUKEwjsytSuupyEAxXCkq8BHbQMDuQQ4lYIECgF\">animated</a><a class=\"TwVfHd\" href=\"/search?sca_esv=eff03c613f9494ac&amp;biw=620&amp;bih=813&amp;ie=UTF-8&amp;tbm=isch&amp;q=modi+ji&amp;chips=q:modi+ji,g_1:hindi&amp;sa=X&amp;ved=0ahUKEwjsytSuupyEAxXCkq8BHbQMDuQQ4lYIESgG\">hindi</a><a class=\"TwVfHd\" href=\"/search?sca_esv=eff03c613f9494ac&amp;biw=620&amp;bih=813&amp;ie=UTF-8&amp;tbm=isch&amp;q=modi+ji&amp;chips=q:modi+ji,g_1:pagdi&amp;sa=X&amp;ved=0ahUKEwjsytSuupyEAxXCkq8BHbQMDuQQ4lYIEigH\">pagdi</a><a class=\"TwVfHd\" href=\"/search?sca_esv=eff03c613f9494ac&amp;biw=620&amp;bih=813&amp;ie=UTF-8&amp;tbm=isch&amp;q=modi+ji&amp;chips=q:modi+ji,g_1:portrait&amp;sa=X&amp;ved=0ahUKEwjsytSuupyEAxXCkq8BHbQMDuQQ4lYIEygI\">portrait</a><a class=\"TwVfHd\" href=\"/search?sca_esv=eff03c613f9494ac&amp;biw=620&amp;bih=813&amp;ie=UTF-8&amp;tbm=isch&amp;q=modi+ji&amp;chips=q:modi+ji,g_1:republic+day&amp;sa=X&amp;ved=0ahUKEwjsytSuupyEAxXCkq8BHbQMDuQQ4lYIFCgJ\">republic day</a></div><div><table class=\"GpQGbf\"><tr><td align=\"center\" class=\"e3goi\"><div class=\"jjVJ4e\"> <div> <div class=\"lIMUZd\"><div><table class=\"RntSmf\"><tr><td><a href=\"/url?q=https://twitter.com/narendramodi&amp;sa=U&amp;ved=2ahUKEwjsytSuupyEAxXCkq8BHbQMDuQQqoUBegQIAhAB&amp;usg=AOvVaw1JbfqFzmRGfjUVfSAUCrEw\"><div class=\"kCmkOe\"><img alt=\"\" class=\"DS1iW\" src=\"https://encrypted-tbn0.gstatic.com/images?q=tbn:ANd9GcSJoAw2x_7ixSR6QQj4lDg4rpYL4gkPAxD5FbYf-8iej_-cYCswOR8dFYHQog&amp;s\"/></div></a></td></tr><tr><td><a href=\"/url?q=https://twitter.com/narendramodi&amp;sa=U&amp;ved=2ahUKEwjsytSuupyEAxXCkq8BHbQMDuQQr4kDegQIAhAC&amp;usg=AOvVaw1h6vJlbI-Oj9FWVDRTC1Ya\"><div class=\"AlD19d\"> <span class=\"qXLe6d x3G5ab\"> <span class=\"fYyStc\">Narendra Modi...</span> </span> <span class=\"qXLe6d F9iS2e\"> <span class=\"fYyStc\">twitter.com</span> </span> </div></a></td></tr></table></div></div> </div> </div></td><td align=\"center\" class=\"e3goi\"><div class=\"jjVJ4e\"> <div> <div class=\"lIMUZd\"><div><table class=\"RntSmf\"><tr><td><a href=\"/url?q=https://en.wikipedia.org/wiki/Narendra_Modi&amp;sa=U&amp;ved=2ahUKEwjsytSuupyEAxXCkq8BHbQMDuQQqoUBegQIExAB&amp;usg=AOvVaw0EnBDzZsAYuQU3kpN-TkoY\"><div class=\"kCmkOe\"><img alt=\"\" class=\"DS1iW\" src=\"https://encrypted-tbn0.gstatic.com/images?q=tbn:ANd9GcTw7G48FnLNCO2gGjMABD7W_0PPI2v9HQts8jXdtqEomxahKG15PaUEOEo2H3U&amp;s\"/></div></a></td></tr><tr><td><a href=\"/url?q=https://en.wikipedia.org/wiki/Narendra_Modi&amp;sa=U&amp;ved=2ahUKEwjsytSuupyEAxXCkq8BHbQMDuQQr4kDegQIExAC&amp;usg=AOvVaw2mbe_gziP74weazzL0t-mz\"><div class=\"AlD19d\"> <span class=\"qXLe6d x3G5ab\"> <span class=\"fYyStc\">Narendra Modi - Wikipedia</span> </span> <span class=\"qXLe6d F9iS2e\"> <span class=\"fYyStc\">en.wikipedia.org</span> </span> </div></a></td></tr></table></div></div> </div> </div></td><td align=\"center\" class=\"e3goi\"><div class=\"jjVJ4e\"> <div> <div class=\"lIMUZd\"><div><table class=\"RntSmf\"><tr><td><a href=\"/url?q=https://www.flipkart.com/poster-narendra-modi-ji-poster-wall-decoration-high-resolution-paper-print/p/itm8d104089cd1f7&amp;sa=U&amp;ved=2ahUKEwjsytSuupyEAxXCkq8BHbQMDuQQqoUBegQIEhAB&amp;usg=AOvVaw1gX_JwiHlB5B1Ubkb4gv3b\"><div class=\"kCmkOe\"><img alt=\"\" class=\"DS1iW\" src=\"https://encrypted-tbn0.gstatic.com/images?q=tbn:ANd9GcSBK0D8tg4OZHBTxsRSKf5aTlokYPFSqJiM6qVHHQ-uax88V8CbZBoTO7-KdqY&amp;s\"/></div></a></td></tr><tr><td><a href=\"/url?q=https://www.flipkart.com/poster-narendra-modi-ji-poster-wall-decoration-high-resolution-paper-print/p/itm8d104089cd1f7&amp;sa=U&amp;ved=2ahUKEwjsytSuupyEAxXCkq8BHbQMDuQQr4kDegQIEhAC&amp;usg=AOvVaw08zk8d8HmcLbt4sfHZJXqK\"><div class=\"AlD19d\"> <span class=\"qXLe6d x3G5ab\"> <span class=\"fYyStc\">Poster Narendra Modi Ji |...</span> </span> <span class=\"qXLe6d F9iS2e\"> <span class=\"fYyStc\">www.flipkart.com</span> </span> </div></a></td></tr></table></div></div> </div> </div></td><td align=\"center\" class=\"e3goi\"><div class=\"jjVJ4e\"> <div> <div class=\"lIMUZd\"><div><table class=\"RntSmf\"><tr><td><a href=\"/url?q=https://www.amazon.in/zig-zag-Narendra-Picture-Acrylic/dp/B0BB3764W4&amp;sa=U&amp;ved=2ahUKEwjsytSuupyEAxXCkq8BHbQMDuQQqoUBegQICxAB&amp;usg=AOvVaw0zdTDyDRu5rfDh9fVlUWRw\"><div class=\"kCmkOe\"><img alt=\"\" class=\"DS1iW\" src=\"https://encrypted-tbn0.gstatic.com/images?q=tbn:ANd9GcTQ-YDMrFIsdSilY_wDHRLDyud5BsUL3GEay_-1_eOSC_ET9h65K1K2hbtztg&amp;s\"/></div></a></td></tr><tr><td><a href=\"/url?q=https://www.amazon.in/zig-zag-Narendra-Picture-Acrylic/dp/B0BB3764W4&amp;sa=U&amp;ved=2ahUKEwjsytSuupyEAxXCkq8BHbQMDuQQr4kDegQICxAC&amp;usg=AOvVaw1faR9PbzGlxci49NJLG9l6\"><div class=\"AlD19d\"> <span class=\"qXLe6d x3G5ab\"> <span class=\"fYyStc\">zig zag Narendra Modi ji...</span> </span> <span class=\"qXLe6d F9iS2e\"> <span class=\"fYyStc\">www.amazon.in</span> </span> </div></a></td></tr></table></div></div> </div> </div></td></tr><tr><td align=\"center\" class=\"e3goi\"><div class=\"jjVJ4e\"> <div> <div class=\"lIMUZd\"><div><table class=\"RntSmf\"><tr><td><a href=\"/url?q=https://www.amazon.in/Narendra-Interior-Decorative-Galleria-Stateroom/dp/B08YYZNJLP&amp;sa=U&amp;ved=2ahUKEwjsytSuupyEAxXCkq8BHbQMDuQQqoUBegQIEBAB&amp;usg=AOvVaw3k8InH-SxOGzduF9LDuzRK\"><div class=\"kCmkOe\"><img alt=\"\" class=\"DS1iW\" src=\"https://encrypted-tbn0.gstatic.com/images?q=tbn:ANd9GcS32iL_vMT_YIDyWmfmZJxNcTgZy7kI9ymOwHQVLykFlrFI9KvCzYIF96BbCD4&amp;s\"/></div></a></td></tr><tr><td><a href=\"/url?q=https://www.amazon.in/Narendra-Interior-Decorative-Galleria-Stateroom/dp/B08YYZNJLP&amp;sa=U&amp;ved=2ahUKEwjsytSuupyEAxXCkq8BHbQMDuQQr4kDegQIEBAC&amp;usg=AOvVaw2qJDXKC5szVKgm4v0-Ey79\"><div class=\"AlD19d\"> <span class=\"qXLe6d x3G5ab\"> <span class=\"fYyStc\">Narendra Modi Ji Sticker...</span> </span> <span class=\"qXLe6d F9iS2e\"> <span class=\"fYyStc\">www.amazon.in</span> </span> </div></a></td></tr></table></div></div> </div> </div></td><td align=\"center\" class=\"e3goi\"><div class=\"jjVJ4e\"> <div> <div class=\"lIMUZd\"><div><table class=\"RntSmf\"><tr><td><a href=\"/url?q=https://www.pmindia.gov.in/en/image-gallery/&amp;sa=U&amp;ved=2ahUKEwjsytSuupyEAxXCkq8BHbQMDuQQqoUBegQIDhAB&amp;usg=AOvVaw1KyRKhHpM_ELaJo6AfsMJR\"><div class=\"kCmkOe\"><img alt=\"\" class=\"DS1iW\" src=\"https://encrypted-tbn0.gstatic.com/images?q=tbn:ANd9GcQ2QocV9p3ZYlK-lxwaTbxg3XScim9T1U60t59GZTvNKJqMNi-iE8ZUxV_aGw&amp;s\"/></div></a></td></tr><tr><td><a href=\"/url?q=https://www.pmindia.gov.in/en/image-gallery/&amp;sa=U&amp;ved=2ahUKEwjsytSuupyEAxXCkq8BHbQMDuQQr4kDegQIDhAC&amp;usg=AOvVaw31bJE2WwsYpg0qGILfsunL\"><div class=\"AlD19d\"> <span class=\"qXLe6d x3G5ab\"> <span class=\"fYyStc\">Photo Gallery | Prime...</span> </span> <span class=\"qXLe6d F9iS2e\"> <span class=\"fYyStc\">www.pmindia.gov.in</span> </span> </div></a></td></tr></table></div></div> </div> </div></td><td align=\"center\" class=\"e3goi\"><div class=\"jjVJ4e\"> <div> <div class=\"lIMUZd\"><div><table class=\"RntSmf\"><tr><td><a href=\"/url?q=https://timesofindia.indiatimes.com/sports/off-the-field/namaskar-modi-ji-south-african-legends-jonty-rhodes-gary-kirsten-welcome-pm-modi-ahead-of-brics-summit/articleshow/102904276.cms&amp;sa=U&amp;ved=2ahUKEwjsytSuupyEAxXCkq8BHbQMDuQQqoUBegQIERAB&amp;usg=AOvVaw1bs9K60vI7gb7v4PDflZt4\"><div class=\"kCmkOe\"><img alt=\"\" class=\"DS1iW\" src=\"https://encrypted-tbn0.gstatic.com/images?q=tbn:ANd9GcSvmbCvNa4sSho2HXDT07nbNKE-T432jSqWpeTFfXOP5yeNWDactsUB__p3CzY&amp;s\"/></div></a></td></tr><tr><td><a href=\"/url?q=https://timesofindia.indiatimes.com/sports/off-the-field/namaskar-modi-ji-south-african-legends-jonty-rhodes-gary-kirsten-welcome-pm-modi-ahead-of-brics-summit/articleshow/102904276.cms&amp;sa=U&amp;ved=2ahUKEwjsytSuupyEAxXCkq8BHbQMDuQQr4kDegQIERAC&amp;usg=AOvVaw2Zgz_HwbuOYvnYj9wnruMr\"><div class=\"AlD19d\"> <span class=\"qXLe6d x3G5ab\"> <span class=\"fYyStc\">Namaskar Modi ji': South...</span> </span> <span class=\"qXLe6d F9iS2e\"> <span class=\"fYyStc\">timesofindia.indiatimes.com...</span> </span> </div></a></td></tr></table></div></div> </div> </div></td><td align=\"center\" class=\"e3goi\"><div class=\"jjVJ4e\"> <div> <div class=\"lIMUZd\"><div><table class=\"RntSmf\"><tr><td><a href=\"/url?q=https://www.abplive.com/news/world/pm-narendra-modi-egypt-visit-know-about-the-al-hakim-mosque-where-he-visit-2435581&amp;sa=U&amp;ved=2ahUKEwjsytSuupyEAxXCkq8BHbQMDuQQqoUBegQIDRAB&amp;usg=AOvVaw0IXgeQZQL7iTnEwkn6xQz3\"><div class=\"kCmkOe\"><img alt=\"\" class=\"DS1iW\" src=\"https://encrypted-tbn0.gstatic.com/images?q=tbn:ANd9GcQ-OrPt1lRfRWDARioLDlA018DSnVror4WeGEonndY9TBYUHIOb5ZtIcTkVAg&amp;s\"/></div></a></td></tr><tr><td><a href=\"/url?q=https://www.abplive.com/news/world/pm-narendra-modi-egypt-visit-know-about-the-al-hakim-mosque-where-he-visit-2435581&amp;sa=U&amp;ved=2ahUKEwjsytSuupyEAxXCkq8BHbQMDuQQr4kDegQIDRAC&amp;usg=AOvVaw2vji71Bm-3de9MKAHHpGLq\"><div class=\"AlD19d\"> <span class=\"qXLe6d x3G5ab\"> <span class=\"fYyStc\">PM Narendra Modi Egypt...</span> </span> <span class=\"qXLe6d F9iS2e\"> <span class=\"fYyStc\">www.abplive.com</span> </span> </div></a></td></tr></table></div></div> </div> </div></td></tr><tr><td align=\"center\" class=\"e3goi\"><div class=\"jjVJ4e\"> <div> <div class=\"lIMUZd\"><div><table class=\"RntSmf\"><tr><td><a href=\"/url?q=https://m.economictimes.com/news/india/pm-modi-to-visit-gorakhpur-in-up-on-december-7-to-inaugurate-rs-9600-crore-development-projects/articleshow/88079266.cms&amp;sa=U&amp;ved=2ahUKEwjsytSuupyEAxXCkq8BHbQMDuQQqoUBegQIChAB&amp;usg=AOvVaw3a0jxcXfO9mYlu3W4WRRA2\"><div class=\"kCmkOe\"><img alt=\"\" class=\"DS1iW\" src=\"https://encrypted-tbn0.gstatic.com/images?q=tbn:ANd9GcRQYasM76O33elKwWa3dbZISKLzmjkX9Tlq8WjvI_eXI_NtUdq0LakjQkEYl28&amp;s\"/></div></a></td></tr><tr><td><a href=\"/url?q=https://m.economictimes.com/news/india/pm-modi-to-visit-gorakhpur-in-up-on-december-7-to-inaugurate-rs-9600-crore-development-projects/articleshow/88079266.cms&amp;sa=U&amp;ved=2ahUKEwjsytSuupyEAxXCkq8BHbQMDuQQr4kDegQIChAC&amp;usg=AOvVaw0m4yR-pqjdKQX_3A1YnYnB\"><div class=\"AlD19d\"> <span class=\"qXLe6d x3G5ab\"> <span class=\"fYyStc\">PM Modi to visit Gorakhpur...</span> </span> <span class=\"qXLe6d F9iS2e\"> <span class=\"fYyStc\">m.economictimes.com</span> </span> </div></a></td></tr></table></div></div> </div> </div></td><td align=\"center\" class=\"e3goi\"><div class=\"jjVJ4e\"> <div> <div class=\"lIMUZd\"><div><table class=\"RntSmf\"><tr><td><a href=\"/url?q=https://www.flipkart.com/poster-narendra-modi-ji-poster-wall-decoration-high-resolution-300-gsm-18x12-paper-print/p/itm1f3a45994af87&amp;sa=U&amp;ved=2ahUKEwjsytSuupyEAxXCkq8BHbQMDuQQqoUBegQIDxAB&amp;usg=AOvVaw2aQGeWBttGBrE6QUK9TVLh\"><div class=\"kCmkOe\"><img alt=\"\" class=\"DS1iW\" src=\"https://encrypted-tbn0.gstatic.com/images?q=tbn:ANd9GcSd8JmBuBOhMvzG9UHHQv6ZRkIwINlXSW9o-DLUtwemydeOq7L9Rh9oGzAUVQ&amp;s\"/></div></a></td></tr><tr><td><a href=\"/url?q=https://www.flipkart.com/poster-narendra-modi-ji-poster-wall-decoration-high-resolution-300-gsm-18x12-paper-print/p/itm1f3a45994af87&amp;sa=U&amp;ved=2ahUKEwjsytSuupyEAxXCkq8BHbQMDuQQr4kDegQIDxAC&amp;usg=AOvVaw1Yt5bbCWNnx5An2D53A_mt\"><div class=\"AlD19d\"> <span class=\"qXLe6d x3G5ab\"> <span class=\"fYyStc\">Poster Narendra Modi Ji |...</span> </span> <span class=\"qXLe6d F9iS2e\"> <span class=\"fYyStc\">www.flipkart.com</span> </span> </div></a></td></tr></table></div></div> </div> </div></td><td align=\"center\" class=\"e3goi\"><div class=\"jjVJ4e\"> <div> <div class=\"lIMUZd\"><div><table class=\"RntSmf\"><tr><td><a href=\"/url?q=https://www.instagram.com/p/CFPL6DEFKOx/&amp;sa=U&amp;ved=2ahUKEwjsytSuupyEAxXCkq8BHbQMDuQQqoUBegQIDBAB&amp;usg=AOvVaw08gEoX35NxFsGrQjvOAxss\"><div class=\"kCmkOe\"><img alt=\"\" class=\"DS1iW\" src=\"https://encrypted-tbn0.gstatic.com/images?q=tbn:ANd9GcRysH4kLvtOLCUudoLLDpg6qAn0OHXwLNYesrfrLOFGF8GxLu7bNG-VVgr_Ug&amp;s\"/></div></a></td></tr><tr><td><a href=\"/url?q=https://www.instagram.com/p/CFPL6DEFKOx/&amp;sa=U&amp;ved=2ahUKEwjsytSuupyEAxXCkq8BHbQMDuQQr4kDegQIDBAC&amp;usg=AOvVaw0lvOrcMCmrsnKOcQblBVVk\"><div class=\"AlD19d\"> <span class=\"qXLe6d x3G5ab\"> <span class=\"fYyStc\">Wishing Honorable Prime...</span> </span> <span class=\"qXLe6d F9iS2e\"> <span class=\"fYyStc\">www.instagram.com</span> </span> </div></a></td></tr></table></div></div> </div> </div></td><td align=\"center\" class=\"e3goi\"><div class=\"jjVJ4e\"> <div> <div class=\"lIMUZd\"><div><table class=\"RntSmf\"><tr><td><a href=\"/url?q=https://www.facebook.com/PMOIndia/&amp;sa=U&amp;ved=2ahUKEwjsytSuupyEAxXCkq8BHbQMDuQQqoUBegQICRAB&amp;usg=AOvVaw1oZHut7-D-y3Kj1KXLMF7r\"><div class=\"kCmkOe\"><img alt=\"\" class=\"DS1iW\" src=\"https://encrypted-tbn0.gstatic.com/images?q=tbn:ANd9GcROWb7iUakROHdQ1j9fX_UcwcoAlWsvlrRksthxB6xyZCympxPsre2BfA1JnQ&amp;s\"/></div></a></td></tr><tr><td><a href=\"/url?q=https://www.facebook.com/PMOIndia/&amp;sa=U&amp;ved=2ahUKEwjsytSuupyEAxXCkq8BHbQMDuQQr4kDegQICRAC&amp;usg=AOvVaw0ZRa5JYdi8i_0hDSLOTkOh\"><div class=\"AlD19d\"> <span class=\"qXLe6d x3G5ab\"> <span class=\"fYyStc\">PMO India | Official...</span> </span> <span class=\"qXLe6d F9iS2e\"> <span class=\"fYyStc\">www.facebook.com</span> </span> </div></a></td></tr></table></div></div> </div> </div></td></tr><tr><td align=\"center\" class=\"e3goi\"><div class=\"jjVJ4e\"> <div> <div class=\"lIMUZd\"><div><table class=\"RntSmf\"><tr><td><a href=\"/url?q=https://in.pinterest.com/pin/pinterest--767019380285881414/&amp;sa=U&amp;ved=2ahUKEwjsytSuupyEAxXCkq8BHbQMDuQQqoUBegQICBAB&amp;usg=AOvVaw3vOSFif853c2sddrie0qPT\"><div class=\"kCmkOe\"><img alt=\"\" class=\"DS1iW\" src=\"https://encrypted-tbn0.gstatic.com/images?q=tbn:ANd9GcTaNQ0vThkmdddsD2V5DJiatT07HPRNCtxV2_gNDTA51W-eWdwj-1ZXjfh92w&amp;s\"/></div></a></td></tr><tr><td><a href=\"/url?q=https://in.pinterest.com/pin/pinterest--767019380285881414/&amp;sa=U&amp;ved=2ahUKEwjsytSuupyEAxXCkq8BHbQMDuQQr4kDegQICBAC&amp;usg=AOvVaw2BNIODv0NE5DT4iws_Cx8F\"><div class=\"AlD19d\"> <span class=\"qXLe6d x3G5ab\"> <span class=\"fYyStc\">Pinterest</span> </span> <span class=\"qXLe6d F9iS2e\"> <span class=\"fYyStc\">in.pinterest.com</span> </span> </div></a></td></tr></table></div></div> </div> </div></td><td align=\"center\" class=\"e3goi\"><div class=\"jjVJ4e\"> <div> <div class=\"lIMUZd\"><div><table class=\"RntSmf\"><tr><td><a href=\"/url?q=https://www.pmindia.gov.in/en/image-gallery/&amp;sa=U&amp;ved=2ahUKEwjsytSuupyEAxXCkq8BHbQMDuQQqoUBegQIBhAB&amp;usg=AOvVaw1b6NvaJ0souecUSieqZiml\"><div class=\"kCmkOe\"><img alt=\"\" class=\"DS1iW\" src=\"https://encrypted-tbn0.gstatic.com/images?q=tbn:ANd9GcQ9RwAQjlkP23UWAzFpIv6ypseNey8FS4yTLIDpg8WMJP0ZDgA7ForwHHkVasA&amp;s\"/></div></a></td></tr><tr><td><a href=\"/url?q=https://www.pmindia.gov.in/en/image-gallery/&amp;sa=U&amp;ved=2ahUKEwjsytSuupyEAxXCkq8BHbQMDuQQr4kDegQIBhAC&amp;usg=AOvVaw2HaYHUDTN8gT3hyD4ab58F\"><div class=\"AlD19d\"> <span class=\"qXLe6d x3G5ab\"> <span class=\"fYyStc\">Photo Gallery | Prime...</span> </span> <span class=\"qXLe6d F9iS2e\"> <span class=\"fYyStc\">www.pmindia.gov.in</span> </span> </div></a></td></tr></table></div></div> </div> </div></td><td align=\"center\" class=\"e3goi\"><div class=\"jjVJ4e\"> <div> <div class=\"lIMUZd\"><div><table class=\"RntSmf\"><tr><td><a href=\"/url?q=https://www.amazon.in/zig-zag-Narendra-Picture-Acrylic/dp/B0BB3DCZNC&amp;sa=U&amp;ved=2ahUKEwjsytSuupyEAxXCkq8BHbQMDuQQqoUBegQIBBAB&amp;usg=AOvVaw1WbWGWsB-iIPDki6QcXTK9\"><div class=\"kCmkOe\"><img alt=\"\" class=\"DS1iW\" src=\"https://encrypted-tbn0.gstatic.com/images?q=tbn:ANd9GcQ2UNqw1I7PncJvQJw8rUNwWqC60Mor6cnP3CAsuZbTb-KUVm8XgYbWBcGBIA&amp;s\"/></div></a></td></tr><tr><td><a href=\"/url?q=https://www.amazon.in/zig-zag-Narendra-Picture-Acrylic/dp/B0BB3DCZNC&amp;sa=U&amp;ved=2ahUKEwjsytSuupyEAxXCkq8BHbQMDuQQr4kDegQIBBAC&amp;usg=AOvVaw3trdZG7-Wnj2sjS07weITe\"><div class=\"AlD19d\"> <span class=\"qXLe6d x3G5ab\"> <span class=\"fYyStc\">zig zag Narendra Modi ji...</span> </span> <span class=\"qXLe6d F9iS2e\"> <span class=\"fYyStc\">www.amazon.in</span> </span> </div></a></td></tr></table></div></div> </div> </div></td><td align=\"center\" class=\"e3goi\"><div class=\"jjVJ4e\"> <div> <div class=\"lIMUZd\"><div><table class=\"RntSmf\"><tr><td><a href=\"/url?q=https://www.orfonline.org/expert-speak/verdict-2019-modi-ji-is-now-indias-modi-xi-51190&amp;sa=U&amp;ved=2ahUKEwjsytSuupyEAxXCkq8BHbQMDuQQqoUBegQIBRAB&amp;usg=AOvVaw0XgvlMF7b8pCQRCFRpFB7X\"><div class=\"kCmkOe\"><img alt=\"\" class=\"DS1iW\" src=\"https://encrypted-tbn0.gstatic.com/images?q=tbn:ANd9GcQ-n_OHh3xIYYCTT8IA6TxPGEYv7zRfa9cXxYaG6PSlzpWJSOZSI4Ish9GTig&amp;s\"/></div></a></td></tr><tr><td><a href=\"/url?q=https://www.orfonline.org/expert-speak/verdict-2019-modi-ji-is-now-indias-modi-xi-51190&amp;sa=U&amp;ved=2ahUKEwjsytSuupyEAxXCkq8BHbQMDuQQr4kDegQIBRAC&amp;usg=AOvVaw0CZwhRsNhK6UL7AXRSl_Wg\"><div class=\"AlD19d\"> <span class=\"qXLe6d x3G5ab\"> <span class=\"fYyStc\">Verdict 2019: Modi Ji is...</span> </span> <span class=\"qXLe6d F9iS2e\"> <span class=\"fYyStc\">www.orfonline.org</span> </span> </div></a></td></tr></table></div></div> </div> </div></td></tr><tr><td align=\"center\" class=\"e3goi\"><div class=\"jjVJ4e\"> <div> <div class=\"lIMUZd\"><div><table class=\"RntSmf\"><tr><td><a href=\"/url?q=https://hindi.news18.com/news/nation/pm-narendra-modi-exclusive-interview-with-moneycontrol-on-indian-economy-world-power-g20-summit-reforms-7464943.html&amp;sa=U&amp;ved=2ahUKEwjsytSuupyEAxXCkq8BHbQMDuQQqoUBegQIAxAB&amp;usg=AOvVaw0tlUrcwCznAUxuGlfnSKD8\"><div class=\"kCmkOe\"><img alt=\"\" class=\"DS1iW\" src=\"https://encrypted-tbn0.gstatic.com/images?q=tbn:ANd9GcRCkGpDZzMwZs0bqmX-ZwOb9T7Tdti3ucwWgrsdPYp43gfYrPcYWy9Uzp44ug&amp;s\"/></div></a></td></tr><tr><td><a href=\"/url?q=https://hindi.news18.com/news/nation/pm-narendra-modi-exclusive-interview-with-moneycontrol-on-indian-economy-world-power-g20-summit-reforms-7464943.html&amp;sa=U&amp;ved=2ahUKEwjsytSuupyEAxXCkq8BHbQMDuQQr4kDegQIAxAC&amp;usg=AOvVaw30Cn_m4PQE16MM2mhl8mZh\"><div class=\"AlD19d\"> <span class=\"qXLe6d x3G5ab\"> <span class=\"fYyStc\">PM Modi Interview: जी-20 से...</span> </span> <span class=\"qXLe6d F9iS2e\"> <span class=\"fYyStc\">hindi.news18.com</span> </span> </div></a></td></tr></table></div></div> </div> </div></td><td align=\"center\" class=\"e3goi\"><div class=\"jjVJ4e\"> <div> <div class=\"lIMUZd\"><div><table class=\"RntSmf\"><tr><td><a href=\"/url?q=https://www.instagram.com/narendramodi/&amp;sa=U&amp;ved=2ahUKEwjsytSuupyEAxXCkq8BHbQMDuQQqoUBegQIARAB&amp;usg=AOvVaw0Na1c-YHi-bs84Y3LTQkfU\"><div class=\"kCmkOe\"><img alt=\"\" class=\"DS1iW\" src=\"https://encrypted-tbn0.gstatic.com/images?q=tbn:ANd9GcTiqqy0BG20QFePKOH23b2fWkcp5VX9ggQo_DAQSmnAiQxkf8HL5lxxNmOngg&amp;s\"/></div></a></td></tr><tr><td><a href=\"/url?q=https://www.instagram.com/narendramodi/&amp;sa=U&amp;ved=2ahUKEwjsytSuupyEAxXCkq8BHbQMDuQQr4kDegQIARAC&amp;usg=AOvVaw21O4JQjaOxeF3PIxd8qVpI\"><div class=\"AlD19d\"> <span class=\"qXLe6d x3G5ab\"> <span class=\"fYyStc\">Narendra Modi...</span> </span> <span class=\"qXLe6d F9iS2e\"> <span class=\"fYyStc\">www.instagram.com</span> </span> </div></a></td></tr></table></div></div> </div> </div></td><td align=\"center\" class=\"e3goi\"><div class=\"jjVJ4e\"> <div> <div class=\"lIMUZd\"><div><table class=\"RntSmf\"><tr><td><a href=\"/url?q=https://www.livemint.com/news/modi-ji-is-god-to-me-k-taka-man-wipes-rainwater-from-cutouts-of-pm-watch-11682097268479.html&amp;sa=U&amp;ved=2ahUKEwjsytSuupyEAxXCkq8BHbQMDuQQqoUBegQIBxAB&amp;usg=AOvVaw09JM85geDsnmawihdEowt6\"><div class=\"kCmkOe\"><img alt=\"\" class=\"DS1iW\" src=\"https://encrypted-tbn0.gstatic.com/images?q=tbn:ANd9GcReWPS5mKimW1RLge4dXUrj2Gfsxet0eO7CNPt-sE6ygcPyo0yIMWbsu9aDH5Q&amp;s\"/></div></a></td></tr><tr><td><a href=\"/url?q=https://www.livemint.com/news/modi-ji-is-god-to-me-k-taka-man-wipes-rainwater-from-cutouts-of-pm-watch-11682097268479.html&amp;sa=U&amp;ved=2ahUKEwjsytSuupyEAxXCkq8BHbQMDuQQr4kDegQIBxAC&amp;usg=AOvVaw3a5Ts_F1Wu_laZwf3ofsWh\"><div class=\"AlD19d\"> <span class=\"qXLe6d x3G5ab\"> <span class=\"fYyStc\">Modi ji is God to me':...</span> </span> <span class=\"qXLe6d F9iS2e\"> <span class=\"fYyStc\">www.livemint.com</span> </span> </div></a></td></tr></table></div></div> </div> </div></td><td align=\"center\" class=\"e3goi\"><div class=\"jjVJ4e\"> <div> <div class=\"lIMUZd\"><div><table class=\"RntSmf\"><tr><td><a href=\"/url?q=https://www.aajtak.in/india/politics/story/prime-minister-narendra-modi-big-statement-in-bjp-parliamentary-party-meeting-ntc-1833591-2023-12-07&amp;sa=U&amp;ved=2ahUKEwjsytSuupyEAxXCkq8BHbQMDuQQqoUBegQIABAB&amp;usg=AOvVaw1Xk4FfIghqqE03dgxbpVJR\"><div class=\"kCmkOe\"><img alt=\"\" class=\"DS1iW\" src=\"https://encrypted-tbn0.gstatic.com/images?q=tbn:ANd9GcRrDHgdDDRON36F4eVJ5m_kiPPm8niTTdoE8KTvgSivjGC6w2-EDTDm5OhK2Bo&amp;s\"/></div></a></td></tr><tr><td><a href=\"/url?q=https://www.aajtak.in/india/politics/story/prime-minister-narendra-modi-big-statement-in-bjp-parliamentary-party-meeting-ntc-1833591-2023-12-07&amp;sa=U&amp;ved=2ahUKEwjsytSuupyEAxXCkq8BHbQMDuQQr4kDegQIABAC&amp;usg=AOvVaw1ePh10Z42BQDWm8ILgsSVG\"><div class=\"AlD19d\"> <span class=\"qXLe6d x3G5ab\"> <span class=\"fYyStc\">मैं मोदी हूं, मुझे मोदी जी...</span> </span> <span class=\"qXLe6d F9iS2e\"> <span class=\"fYyStc\">www.aajtak.in</span> </span> </div></a></td></tr></table></div></div> </div> </div></td></tr></table></div><table class=\"uZgmoc\"><tbody><td><a class=\"frGj1b\" href=\"/search?q=modi+ji&amp;sca_esv=eff03c613f9494ac&amp;biw=620&amp;bih=813&amp;ie=UTF-8&amp;tbm=isch&amp;ei=iijFZezdBcKlvr0PtJm4oA4&amp;start=20&amp;sa=N\">Next &gt;</a></td></tbody></table><br/><div class=\"TuS8Ad\" data-ved=\"0ahUKEwjsytSuupyEAxXCkq8BHbQMDuQQpyoIUg\"><style>.VYM29{font-weight:bold}</style><div align=\"center\" class=\"HddGcc\"><span class=\"VYM29\">Mumbai, Maharashtra</span><span> - </span><span>From your IP address</span><span> - </span><a href=\"/url?q=https://support.google.com/websearch%3Fp%3Dws_settings_location%26hl%3Den-IN&amp;opi=89978449&amp;sa=U&amp;ved=0ahUKEwjsytSuupyEAxXCkq8BHbQMDuQQty4IUw&amp;usg=AOvVaw0S3xP5CJB-pApN4eAxkf1T\">Learn more</a></div><div align=\"center\"><a class=\"rEM8G\" href=\"/url?q=https://accounts.google.com/ServiceLogin%3Fcontinue%3Dhttps://www.google.com/search%253Fq%253Dmodi%252Bji%2526sca_esv%253Deff03c613f9494ac%2526tbm%253Disch%2526sxsrf%253DACQVn0_GDZvyHB_bP5onHLRDIASc6ntI5g:1707416767172%2526source%253Dhp%2526biw%253D620%2526bih%253D813%2526ei%253DvxzFZdvYCJjh2roPtOSs2A8%2526iflsig%253DANes7DEAAAAAZcUqz7PSPAebpV4mrd4_-kNvAToBOqYb%2526ved%253D0ahUKEwibtI6Pr5yEAxWYsFYBHTQyC_sQ4dUDCAc%2526uact%253D5%2526oq%253Dsudhanshu%252Bkumar%252Bineuron%2526gs_lp%253DEgNpbWciF3N1ZGhhbnNodSBrdW1hciBpbmV1cm9uMgUQABiABDIHEAAYgAQYGEiTC1CIBliIBnABeACQAQCYAcICoAHCAqoBAzMtMbgBA8gBAPgBAvgBAYoCC2d3cy13aXotaW1nqAIBwgIHECMY6gIYJw%2526sclient%253Dimg%26hl%3Den&amp;opi=89978449&amp;sa=U&amp;ved=0ahUKEwjsytSuupyEAxXCkq8BHbQMDuQQxs8CCFQ&amp;usg=AOvVaw0XUqs0quwQe14EhfLAALpj\">Sign in</a></div><div><table class=\"bookcf\"><tbody class=\"InWNIe\"><tr><td><a class=\"rEM8G\" href=\"https://www.google.com/preferences?hl=en&amp;sa=X&amp;ved=0ahUKEwjsytSuupyEAxXCkq8BHbQMDuQQv5YECFU\">Settings</a></td><td><a class=\"rEM8G\" href=\"https://www.google.com/intl/en_in/policies/privacy/\">Privacy</a></td><td><a class=\"rEM8G\" href=\"https://www.google.com/intl/en_in/policies/terms/\">Terms</a></td></tr></tbody></table></div></div><div> </div></body></html>"
      ]
     },
     "execution_count": 36,
     "metadata": {},
     "output_type": "execute_result"
    }
   ],
   "source": [
    "soup"
   ]
  },
  {
   "cell_type": "code",
   "execution_count": 14,
   "id": "54cf021e-a824-4509-8ef5-1804f965e63c",
   "metadata": {},
   "outputs": [
    {
     "data": {
      "text/plain": [
       "[<img alt=\"Google\" class=\"kgJEQe\" src=\"/images/branding/searchlogo/1x/googlelogo_desk_heirloom_color_150x55dp.gif\"/>,\n",
       " <img alt=\"\" class=\"DS1iW\" src=\"https://encrypted-tbn0.gstatic.com/images?q=tbn:ANd9GcT-TC_64UbCp1xU0A2_yik-WFOMwVegfHOU090yCu0h28p3u1dCt3PLuFz7rw&amp;s\"/>,\n",
       " <img alt=\"\" class=\"DS1iW\" src=\"https://encrypted-tbn0.gstatic.com/images?q=tbn:ANd9GcRjUkSyg4dtexnrXZIohPDgi0tWIM-7kZ7E1K6_k-R82L98WR2mEk7B5u2IIQ&amp;s\"/>,\n",
       " <img alt=\"\" class=\"DS1iW\" src=\"https://encrypted-tbn0.gstatic.com/images?q=tbn:ANd9GcTFlbu5Vgc2ZXkC2PM8dx4Si-K-osajlblbKzCega3V58AYp9euRmeC_V6Ean4&amp;s\"/>,\n",
       " <img alt=\"\" class=\"DS1iW\" src=\"https://encrypted-tbn0.gstatic.com/images?q=tbn:ANd9GcSyECz5RbBbmSX7nIn8KTKS7hQThH9adFIrY4amq9_BV2rfS9Ixog52MPMT3DQ&amp;s\"/>,\n",
       " <img alt=\"\" class=\"DS1iW\" src=\"https://encrypted-tbn0.gstatic.com/images?q=tbn:ANd9GcS1Z3J_u11gTkc8ePdVCESLKiCo-DYtM_4CttJyQ1mFFJeEfviGln04zkvnfNw&amp;s\"/>,\n",
       " <img alt=\"\" class=\"DS1iW\" src=\"https://encrypted-tbn0.gstatic.com/images?q=tbn:ANd9GcR-17GOzV-WKbaM3ZXIAGCnsL3ziGCwExZ5JkAEGlsqhzI1HrOMx6xI5ItIR-U&amp;s\"/>,\n",
       " <img alt=\"\" class=\"DS1iW\" src=\"https://encrypted-tbn0.gstatic.com/images?q=tbn:ANd9GcQmgNck284ckEAytnPao1WhkXST5OA2N4tbWMkrXrEz0hnZCylTlCfpz55qAeg&amp;s\"/>,\n",
       " <img alt=\"\" class=\"DS1iW\" src=\"https://encrypted-tbn0.gstatic.com/images?q=tbn:ANd9GcRQ5mjqD46gdHrnkwEnh2LXbLoYc1m6EUCUnByX1IlLMs0AO9GO3DpONREVzg&amp;s\"/>,\n",
       " <img alt=\"\" class=\"DS1iW\" src=\"https://encrypted-tbn0.gstatic.com/images?q=tbn:ANd9GcSIrIxozjNsIXB3BX2xlB0Tf3e3hqwgJD7hKOOG1b0MsL7h2eetNuXOYuFOgw&amp;s\"/>,\n",
       " <img alt=\"\" class=\"DS1iW\" src=\"https://encrypted-tbn0.gstatic.com/images?q=tbn:ANd9GcSE7xDnhcLH5DnZkb4t1_p0QZltCNo29M8e-VryqytHI-Fgv_JKbcRR1TW9sQ&amp;s\"/>,\n",
       " <img alt=\"\" class=\"DS1iW\" src=\"https://encrypted-tbn0.gstatic.com/images?q=tbn:ANd9GcRyf-iNhUVsTYIBUAi2hNxcOFxZ01b2dblVK_aXINqe-ggPkcc3WJEK1V4_6Eo&amp;s\"/>,\n",
       " <img alt=\"\" class=\"DS1iW\" src=\"https://encrypted-tbn0.gstatic.com/images?q=tbn:ANd9GcRE1hjbUZX9CRrtjW5YAF369KtC6xrHrzWNvmIUU_8EF9oCGH1eF5USMWyKaQ&amp;s\"/>,\n",
       " <img alt=\"\" class=\"DS1iW\" src=\"https://encrypted-tbn0.gstatic.com/images?q=tbn:ANd9GcRDpSJidG115aU07_g9qUGXF5OkWkuISynChKiDf3KYPQsf1QKOimGD7YPrSsM&amp;s\"/>,\n",
       " <img alt=\"\" class=\"DS1iW\" src=\"https://encrypted-tbn0.gstatic.com/images?q=tbn:ANd9GcSHx-ehNoMzbA_yQ0drRAUVnmzcgU8U9pzyzQFb3vSr_CC9fwPzsCNyoasIeg&amp;s\"/>,\n",
       " <img alt=\"\" class=\"DS1iW\" src=\"https://encrypted-tbn0.gstatic.com/images?q=tbn:ANd9GcRuxvwr7JZ46omyLrx7wUoPj2W6MDEMZToaIhftG9433okM-s3gNtZWSM24FQ&amp;s\"/>,\n",
       " <img alt=\"\" class=\"DS1iW\" src=\"https://encrypted-tbn0.gstatic.com/images?q=tbn:ANd9GcS0kHQiT-288qRsFirGyBEF-Fyt2_ZqCtzRA_rg8u7FYMj-og7ZGPGV-WI0nw&amp;s\"/>,\n",
       " <img alt=\"\" class=\"DS1iW\" src=\"https://encrypted-tbn0.gstatic.com/images?q=tbn:ANd9GcSf2WnlP-KMLpn3KaiIHAijkEN2CnNIbIVMfndMbtzDrNkIOPgmoFmb8KKtvbU&amp;s\"/>,\n",
       " <img alt=\"\" class=\"DS1iW\" src=\"https://encrypted-tbn0.gstatic.com/images?q=tbn:ANd9GcTEZdm5yFjfY36XYigZ-XUkRnSExbX0j3GBzb9RmEwqXWcREiJc7EaCr6L8YKs&amp;s\"/>,\n",
       " <img alt=\"\" class=\"DS1iW\" src=\"https://encrypted-tbn0.gstatic.com/images?q=tbn:ANd9GcQv9s7Mxp4w0px0EEVR2jcWWXJ6Yzt1f0meUVq2plc6F3C3TZ62bKnoYVYp_w&amp;s\"/>,\n",
       " <img alt=\"\" class=\"DS1iW\" src=\"https://encrypted-tbn0.gstatic.com/images?q=tbn:ANd9GcSrUT_ldmcVch68cREX44_1XEqQZTX3mtVI_DmTqUlT3VSUs5gfaPwqf_8bow&amp;s\"/>]"
      ]
     },
     "execution_count": 14,
     "metadata": {},
     "output_type": "execute_result"
    }
   ],
   "source": [
    "soup.find_all(\"img\")"
   ]
  },
  {
   "cell_type": "code",
   "execution_count": 37,
   "id": "eafc49ef-5dc4-47af-927d-7338fa392e85",
   "metadata": {},
   "outputs": [],
   "source": [
    "images_tages =soup.find_all(\"img\")"
   ]
  },
  {
   "cell_type": "code",
   "execution_count": 38,
   "id": "dfe0027a-ddb8-4bed-b563-089b58030139",
   "metadata": {},
   "outputs": [
    {
     "data": {
      "text/plain": [
       "21"
      ]
     },
     "execution_count": 38,
     "metadata": {},
     "output_type": "execute_result"
    }
   ],
   "source": [
    "len(images_tages)"
   ]
  },
  {
   "cell_type": "code",
   "execution_count": 39,
   "id": "f9144ff4-b1bd-416e-ab5f-d0d6b86277fe",
   "metadata": {},
   "outputs": [
    {
     "data": {
      "text/plain": [
       "[<img alt=\"Google\" class=\"kgJEQe\" src=\"/images/branding/searchlogo/1x/googlelogo_desk_heirloom_color_150x55dp.gif\"/>,\n",
       " <img alt=\"\" class=\"DS1iW\" src=\"https://encrypted-tbn0.gstatic.com/images?q=tbn:ANd9GcSJoAw2x_7ixSR6QQj4lDg4rpYL4gkPAxD5FbYf-8iej_-cYCswOR8dFYHQog&amp;s\"/>,\n",
       " <img alt=\"\" class=\"DS1iW\" src=\"https://encrypted-tbn0.gstatic.com/images?q=tbn:ANd9GcTw7G48FnLNCO2gGjMABD7W_0PPI2v9HQts8jXdtqEomxahKG15PaUEOEo2H3U&amp;s\"/>,\n",
       " <img alt=\"\" class=\"DS1iW\" src=\"https://encrypted-tbn0.gstatic.com/images?q=tbn:ANd9GcSBK0D8tg4OZHBTxsRSKf5aTlokYPFSqJiM6qVHHQ-uax88V8CbZBoTO7-KdqY&amp;s\"/>,\n",
       " <img alt=\"\" class=\"DS1iW\" src=\"https://encrypted-tbn0.gstatic.com/images?q=tbn:ANd9GcTQ-YDMrFIsdSilY_wDHRLDyud5BsUL3GEay_-1_eOSC_ET9h65K1K2hbtztg&amp;s\"/>,\n",
       " <img alt=\"\" class=\"DS1iW\" src=\"https://encrypted-tbn0.gstatic.com/images?q=tbn:ANd9GcS32iL_vMT_YIDyWmfmZJxNcTgZy7kI9ymOwHQVLykFlrFI9KvCzYIF96BbCD4&amp;s\"/>,\n",
       " <img alt=\"\" class=\"DS1iW\" src=\"https://encrypted-tbn0.gstatic.com/images?q=tbn:ANd9GcQ2QocV9p3ZYlK-lxwaTbxg3XScim9T1U60t59GZTvNKJqMNi-iE8ZUxV_aGw&amp;s\"/>,\n",
       " <img alt=\"\" class=\"DS1iW\" src=\"https://encrypted-tbn0.gstatic.com/images?q=tbn:ANd9GcSvmbCvNa4sSho2HXDT07nbNKE-T432jSqWpeTFfXOP5yeNWDactsUB__p3CzY&amp;s\"/>,\n",
       " <img alt=\"\" class=\"DS1iW\" src=\"https://encrypted-tbn0.gstatic.com/images?q=tbn:ANd9GcQ-OrPt1lRfRWDARioLDlA018DSnVror4WeGEonndY9TBYUHIOb5ZtIcTkVAg&amp;s\"/>,\n",
       " <img alt=\"\" class=\"DS1iW\" src=\"https://encrypted-tbn0.gstatic.com/images?q=tbn:ANd9GcRQYasM76O33elKwWa3dbZISKLzmjkX9Tlq8WjvI_eXI_NtUdq0LakjQkEYl28&amp;s\"/>,\n",
       " <img alt=\"\" class=\"DS1iW\" src=\"https://encrypted-tbn0.gstatic.com/images?q=tbn:ANd9GcSd8JmBuBOhMvzG9UHHQv6ZRkIwINlXSW9o-DLUtwemydeOq7L9Rh9oGzAUVQ&amp;s\"/>,\n",
       " <img alt=\"\" class=\"DS1iW\" src=\"https://encrypted-tbn0.gstatic.com/images?q=tbn:ANd9GcRysH4kLvtOLCUudoLLDpg6qAn0OHXwLNYesrfrLOFGF8GxLu7bNG-VVgr_Ug&amp;s\"/>,\n",
       " <img alt=\"\" class=\"DS1iW\" src=\"https://encrypted-tbn0.gstatic.com/images?q=tbn:ANd9GcROWb7iUakROHdQ1j9fX_UcwcoAlWsvlrRksthxB6xyZCympxPsre2BfA1JnQ&amp;s\"/>,\n",
       " <img alt=\"\" class=\"DS1iW\" src=\"https://encrypted-tbn0.gstatic.com/images?q=tbn:ANd9GcTaNQ0vThkmdddsD2V5DJiatT07HPRNCtxV2_gNDTA51W-eWdwj-1ZXjfh92w&amp;s\"/>,\n",
       " <img alt=\"\" class=\"DS1iW\" src=\"https://encrypted-tbn0.gstatic.com/images?q=tbn:ANd9GcQ9RwAQjlkP23UWAzFpIv6ypseNey8FS4yTLIDpg8WMJP0ZDgA7ForwHHkVasA&amp;s\"/>,\n",
       " <img alt=\"\" class=\"DS1iW\" src=\"https://encrypted-tbn0.gstatic.com/images?q=tbn:ANd9GcQ2UNqw1I7PncJvQJw8rUNwWqC60Mor6cnP3CAsuZbTb-KUVm8XgYbWBcGBIA&amp;s\"/>,\n",
       " <img alt=\"\" class=\"DS1iW\" src=\"https://encrypted-tbn0.gstatic.com/images?q=tbn:ANd9GcQ-n_OHh3xIYYCTT8IA6TxPGEYv7zRfa9cXxYaG6PSlzpWJSOZSI4Ish9GTig&amp;s\"/>,\n",
       " <img alt=\"\" class=\"DS1iW\" src=\"https://encrypted-tbn0.gstatic.com/images?q=tbn:ANd9GcRCkGpDZzMwZs0bqmX-ZwOb9T7Tdti3ucwWgrsdPYp43gfYrPcYWy9Uzp44ug&amp;s\"/>,\n",
       " <img alt=\"\" class=\"DS1iW\" src=\"https://encrypted-tbn0.gstatic.com/images?q=tbn:ANd9GcTiqqy0BG20QFePKOH23b2fWkcp5VX9ggQo_DAQSmnAiQxkf8HL5lxxNmOngg&amp;s\"/>,\n",
       " <img alt=\"\" class=\"DS1iW\" src=\"https://encrypted-tbn0.gstatic.com/images?q=tbn:ANd9GcReWPS5mKimW1RLge4dXUrj2Gfsxet0eO7CNPt-sE6ygcPyo0yIMWbsu9aDH5Q&amp;s\"/>,\n",
       " <img alt=\"\" class=\"DS1iW\" src=\"https://encrypted-tbn0.gstatic.com/images?q=tbn:ANd9GcRrDHgdDDRON36F4eVJ5m_kiPPm8niTTdoE8KTvgSivjGC6w2-EDTDm5OhK2Bo&amp;s\"/>]"
      ]
     },
     "execution_count": 39,
     "metadata": {},
     "output_type": "execute_result"
    }
   ],
   "source": [
    "images_tages"
   ]
  },
  {
   "cell_type": "code",
   "execution_count": 40,
   "id": "4740dd2b-e68d-4214-843a-a087c3eb6212",
   "metadata": {},
   "outputs": [],
   "source": [
    "del images_tages[0]"
   ]
  },
  {
   "cell_type": "code",
   "execution_count": 41,
   "id": "23f9ed5a-777c-4621-938b-724396ad0640",
   "metadata": {},
   "outputs": [
    {
     "data": {
      "text/plain": [
       "[<img alt=\"\" class=\"DS1iW\" src=\"https://encrypted-tbn0.gstatic.com/images?q=tbn:ANd9GcSJoAw2x_7ixSR6QQj4lDg4rpYL4gkPAxD5FbYf-8iej_-cYCswOR8dFYHQog&amp;s\"/>,\n",
       " <img alt=\"\" class=\"DS1iW\" src=\"https://encrypted-tbn0.gstatic.com/images?q=tbn:ANd9GcTw7G48FnLNCO2gGjMABD7W_0PPI2v9HQts8jXdtqEomxahKG15PaUEOEo2H3U&amp;s\"/>,\n",
       " <img alt=\"\" class=\"DS1iW\" src=\"https://encrypted-tbn0.gstatic.com/images?q=tbn:ANd9GcSBK0D8tg4OZHBTxsRSKf5aTlokYPFSqJiM6qVHHQ-uax88V8CbZBoTO7-KdqY&amp;s\"/>,\n",
       " <img alt=\"\" class=\"DS1iW\" src=\"https://encrypted-tbn0.gstatic.com/images?q=tbn:ANd9GcTQ-YDMrFIsdSilY_wDHRLDyud5BsUL3GEay_-1_eOSC_ET9h65K1K2hbtztg&amp;s\"/>,\n",
       " <img alt=\"\" class=\"DS1iW\" src=\"https://encrypted-tbn0.gstatic.com/images?q=tbn:ANd9GcS32iL_vMT_YIDyWmfmZJxNcTgZy7kI9ymOwHQVLykFlrFI9KvCzYIF96BbCD4&amp;s\"/>,\n",
       " <img alt=\"\" class=\"DS1iW\" src=\"https://encrypted-tbn0.gstatic.com/images?q=tbn:ANd9GcQ2QocV9p3ZYlK-lxwaTbxg3XScim9T1U60t59GZTvNKJqMNi-iE8ZUxV_aGw&amp;s\"/>,\n",
       " <img alt=\"\" class=\"DS1iW\" src=\"https://encrypted-tbn0.gstatic.com/images?q=tbn:ANd9GcSvmbCvNa4sSho2HXDT07nbNKE-T432jSqWpeTFfXOP5yeNWDactsUB__p3CzY&amp;s\"/>,\n",
       " <img alt=\"\" class=\"DS1iW\" src=\"https://encrypted-tbn0.gstatic.com/images?q=tbn:ANd9GcQ-OrPt1lRfRWDARioLDlA018DSnVror4WeGEonndY9TBYUHIOb5ZtIcTkVAg&amp;s\"/>,\n",
       " <img alt=\"\" class=\"DS1iW\" src=\"https://encrypted-tbn0.gstatic.com/images?q=tbn:ANd9GcRQYasM76O33elKwWa3dbZISKLzmjkX9Tlq8WjvI_eXI_NtUdq0LakjQkEYl28&amp;s\"/>,\n",
       " <img alt=\"\" class=\"DS1iW\" src=\"https://encrypted-tbn0.gstatic.com/images?q=tbn:ANd9GcSd8JmBuBOhMvzG9UHHQv6ZRkIwINlXSW9o-DLUtwemydeOq7L9Rh9oGzAUVQ&amp;s\"/>,\n",
       " <img alt=\"\" class=\"DS1iW\" src=\"https://encrypted-tbn0.gstatic.com/images?q=tbn:ANd9GcRysH4kLvtOLCUudoLLDpg6qAn0OHXwLNYesrfrLOFGF8GxLu7bNG-VVgr_Ug&amp;s\"/>,\n",
       " <img alt=\"\" class=\"DS1iW\" src=\"https://encrypted-tbn0.gstatic.com/images?q=tbn:ANd9GcROWb7iUakROHdQ1j9fX_UcwcoAlWsvlrRksthxB6xyZCympxPsre2BfA1JnQ&amp;s\"/>,\n",
       " <img alt=\"\" class=\"DS1iW\" src=\"https://encrypted-tbn0.gstatic.com/images?q=tbn:ANd9GcTaNQ0vThkmdddsD2V5DJiatT07HPRNCtxV2_gNDTA51W-eWdwj-1ZXjfh92w&amp;s\"/>,\n",
       " <img alt=\"\" class=\"DS1iW\" src=\"https://encrypted-tbn0.gstatic.com/images?q=tbn:ANd9GcQ9RwAQjlkP23UWAzFpIv6ypseNey8FS4yTLIDpg8WMJP0ZDgA7ForwHHkVasA&amp;s\"/>,\n",
       " <img alt=\"\" class=\"DS1iW\" src=\"https://encrypted-tbn0.gstatic.com/images?q=tbn:ANd9GcQ2UNqw1I7PncJvQJw8rUNwWqC60Mor6cnP3CAsuZbTb-KUVm8XgYbWBcGBIA&amp;s\"/>,\n",
       " <img alt=\"\" class=\"DS1iW\" src=\"https://encrypted-tbn0.gstatic.com/images?q=tbn:ANd9GcQ-n_OHh3xIYYCTT8IA6TxPGEYv7zRfa9cXxYaG6PSlzpWJSOZSI4Ish9GTig&amp;s\"/>,\n",
       " <img alt=\"\" class=\"DS1iW\" src=\"https://encrypted-tbn0.gstatic.com/images?q=tbn:ANd9GcRCkGpDZzMwZs0bqmX-ZwOb9T7Tdti3ucwWgrsdPYp43gfYrPcYWy9Uzp44ug&amp;s\"/>,\n",
       " <img alt=\"\" class=\"DS1iW\" src=\"https://encrypted-tbn0.gstatic.com/images?q=tbn:ANd9GcTiqqy0BG20QFePKOH23b2fWkcp5VX9ggQo_DAQSmnAiQxkf8HL5lxxNmOngg&amp;s\"/>,\n",
       " <img alt=\"\" class=\"DS1iW\" src=\"https://encrypted-tbn0.gstatic.com/images?q=tbn:ANd9GcReWPS5mKimW1RLge4dXUrj2Gfsxet0eO7CNPt-sE6ygcPyo0yIMWbsu9aDH5Q&amp;s\"/>,\n",
       " <img alt=\"\" class=\"DS1iW\" src=\"https://encrypted-tbn0.gstatic.com/images?q=tbn:ANd9GcRrDHgdDDRON36F4eVJ5m_kiPPm8niTTdoE8KTvgSivjGC6w2-EDTDm5OhK2Bo&amp;s\"/>]"
      ]
     },
     "execution_count": 41,
     "metadata": {},
     "output_type": "execute_result"
    }
   ],
   "source": [
    "images_tages"
   ]
  },
  {
   "cell_type": "code",
   "execution_count": 42,
   "id": "b8240c1a-6096-4e9b-939b-11ca4406b0d6",
   "metadata": {},
   "outputs": [],
   "source": [
    "for i in images_tages:\n",
    "    images_url =i['src']\n",
    "    image_data =requests.get(images_url).content\n",
    "    with open(os.path.join(save_dir, f\"{query}_{images_tages.index(i)}.JPEG\"),\"wb\")as f:\n",
    "        f.write(image_data)"
   ]
  },
  {
   "cell_type": "code",
   "execution_count": 28,
   "id": "963f8b26-9e75-4364-aa57-d2991b782597",
   "metadata": {},
   "outputs": [
    {
     "data": {
      "text/plain": [
       "b'\\xff\\xd8\\xff\\xe0\\x00\\x10JFIF\\x00\\x01\\x01\\x00\\x00\\x01\\x00\\x01\\x00\\x00\\xff\\xdb\\x00\\x84\\x00\\t\\x06\\x07\\x08\\x07\\x06\\t\\x08\\x07\\x08\\n\\n\\t\\x0b\\r\\x16\\x0f\\r\\x0c\\x0c\\r\\x1b\\x14\\x15\\x10\\x16 \\x1d\"\" \\x1d\\x1f\\x1f$(4,$&1\\'\\x1f\\x1f-=-157:::#+?D?8C49:7\\x01\\n\\n\\n\\r\\x0c\\r\\x1a\\x0f\\x0f\\x1a7%\\x1f%77777777777777777777777777777777777777777777777777\\xff\\xc0\\x00\\x11\\x08\\x00l\\x00\\xa2\\x03\\x01\"\\x00\\x02\\x11\\x01\\x03\\x11\\x01\\xff\\xc4\\x00\\x1c\\x00\\x00\\x01\\x05\\x01\\x01\\x01\\x00\\x00\\x00\\x00\\x00\\x00\\x00\\x00\\x00\\x00\\x00\\x02\\x03\\x04\\x05\\x06\\x07\\x01\\x08\\xff\\xc4\\x00A\\x10\\x00\\x01\\x03\\x02\\x03\\x04\\x07\\x05\\x02\\x0c\\x07\\x00\\x00\\x00\\x00\\x00\\x01\\x00\\x02\\x03\\x04\\x11\\x05\\x12!\\x061Aa\\x13\"2Qq\\x81\\x91\\x07\\x14\\xa1\\xb1\\xc1BR\\x15#$3Cr\\x82\\x92\\x93\\xa2\\xd2\\xe1\\x16\\x17S\\xb2\\xd1\\xf0\\xf1\\xff\\xc4\\x00\\x19\\x01\\x00\\x02\\x03\\x01\\x00\\x00\\x00\\x00\\x00\\x00\\x00\\x00\\x00\\x00\\x00\\x00\\x00\\x02\\x01\\x03\\x04\\x05\\xff\\xc4\\x00#\\x11\\x00\\x02\\x02\\x01\\x04\\x02\\x02\\x03\\x00\\x00\\x00\\x00\\x00\\x00\\x00\\x00\\x00\\x01\\x02\\x11\\x03\\x12!1A\\x042Qa\\x14\"3\\xff\\xda\\x00\\x0c\\x03\\x01\\x00\\x02\\x11\\x03\\x11\\x00?\\x00\\xc7!\\x08]\\x92\\xd0W[\\x1d\\x89\\xc1\\x83\\xe3\\xf0V\\xd5\\x12\"c^\\r\\xb9\\xb4\\x85J\\x91)\\xb3\\t\\n\\x1cu* \\xec\\x8d\\xf6\\x89\\x82}\\xf7\\xfe\\xe9^\\x9fh\\xb8\\'\\xfa\\xaf\\xfd\\xc2\\xb8\\xbcbI$k\\x19r\\xe7h\\x02y\\xf0\\xcb\\x1b\\xcb$k\\x83\\x81\\xdde\\x9f\\xf1!\\xf2\\xc8:\\x0e\\xde\\xedM\\x0e;\\xb3\\x12\\xc5B\\xf2]\\x1c\\xf1\\x97]\\xa4q\\\\\\xf4L#as\\xcd\\x9a7\\x9b\\xa9\\x90F?\\x02\\xd6\\x89A\\x04\\xc8\\xcc\\xbe+9\\x8bT\\x18\\x9a\\x03E\\xf2\\x8b\\xf7\\xd8\\xab)a\\x86\\xc4|\\x92\\xaa1Ib`\\x91\\x8cnK\\xf1\\xde\\x99v99\\xecF\\xc6\\ru-&\\xe9\\x96`\\xf8\\xcc\\x98[\\xab]I!\\x84\\x9d\\t\\x1b\\xc7!\\xdc\\xaba\\xa7\\xad\\xa9\\x93%5<\\x8e \\xd8\\x8bh\\xb1\\xfeD\\x9fci\\x9f\\xc1{O\\x8f\\x0c\\xf9g`\\xfdfn\\x1eJ\\xee)\\x98\\xf6\\x875\\xc0\\x87\\x0b\\x8dV\\x1a\\xb2\\x86\\xbe\\x8c\\x8fy\\x81\\xf1\\xf8\\xea\\x9f\\xc3\\xb1\\x07\\xd1\\x96\\xe69\\xacwrWa\\xf2i\\xd4\\x88\\xddrnC\\xd1\\x98\\xa8\\xb4\\xf2\\x89bd\\x8d\\xec\\xb8\\\\\\'n\\xe3\\xa2\\xe8tH\\xa7\\xbc\\x06\\x9e:,\\x9e2A\\xc4a\\xd3\\xec\\xfdV\\xa1\\xed\\xea\\x9dx,\\xae-\\xae\\'\\x0b{\\x9a>j\\xac\\xafa$[R\\xfd\\xa5!1L\\x08.O\\xa5\\x87\\x04\\xc3\\x80B\\x10\\x98pB\\x10\\x80\\x04!\\x08\\x00H\\x98^2\\x96\\x91/a\\x00\\x10=\\xd1J\\xc9#6su\\t\\xf9*\\'\\x96G=\\xf2\\xba\\xee76Q\\xdb\\xc19\\xc1HlKs\\x9epI\\x9cn\\x7f(`7\\xf0*\\x8a*s\\x88c\\x11P89\\xc2Y\\x1a\\xd6\\x81\\xf5W\\xcf\\x07\\xfc5)\\x1ckY\\xfe\\xd2\\x9b\\xd9\\n#>\\xd7\\xc3%\\xf2\\x86\\xd3H\\xf6\\x1f\\xba\\xfbe\\xbf\\xc5g\\xf2\\x7f\\x9d\\x91\\x05\\xaau\\xf6u\\xfa8\\xe9\\xa2\\xa1lr\\x86\\r\\x00\\xb1 rQe\\xa4\\xa2\\x82\\'\\xbf\\xa1\\x8a&\\xef\\xbb\\xac>+\\r\\x8ba\\x0es\\xa3.\\xa0|\\xb2\\xb5\\xc4g}C\\xc96\\xdcr\\x8d5S\\xb6\\x9b\\xa5\\x92\\x93\\x0f\\xa2t9\\xcb\\xd9\\xf8\\xc0\\xe7\\x1f\\xfd\\\\\\xcaGV:\\xb7d\\x1d\\xab\\x82\\x9e\\xb2\\x96V@\\xf8\\x9c\\xe2:\\xb6p+\\x92M\\x99\\x92\\xbe9\\x05\\x9c\\xd2A]\\x16\\xaf\\x04ts\\xe4\\xa3\\xa1\\x8a8\\xd8\\xef\\xce\\xc6\\xf7\\xde\\xdd\\xe6\\xff\\x00%\\x97\\xdaZ\\x12q\\x98\\xdb\\x0bs\\x19\\x1a3[\\x8e\\xb6\\xfa\\xa7\\x8a\\xe8\\xc7\\xe4\\xc5\\xcb\\xf6\\xa2\\xf3\\x03\\x887\\t\\xa6\\x12\\xbc5\\xd9/b\\x14\\xeb0~\\x99\\x9e\\x850\\xd8\\xde\\xc6\\x86\\xb67\\x00\\x05\\xac\\x02\\xf2\\xcf\\xe2\\xc7z.\\xe4U$\\xa8\\xc8>\\xf6\\xb0\\xb4\\xfe9\\x9b\\xb9\\xac\\xcdu;d\\xc4\\xcb\\xbaQ\\xd4\\x88;N:\\xab\\xee\\x8eW\\x9c\\xacc\\x89:\\r\\x16s\\x11l\\x90\\xe2\\xedd\\x80\\xb5\\xc06\\xe3\\xcc\\xa4\\xca\\xb6\\xba\\x16_E\\xb56\\xf7k\\xdc\\x9eLR\\xb8\\xbb5\\xf9\\'\\xd5q\\xe0hz\\x82\\x10\\x84\\xc3\\x82\\x10\\x84\\x00!\\x08@\\x02L\\x9d\\x8d\\x05\\xd2\\x93\\x15\\xaf\\x96:w:\\x01w\\x82,<\\xd0@\\xe3o\\xdd\\xf0^\\x93\\xc9V\\xb6\\xb7\\x11\\x1f\\xa3\\xbf\\x9a\\xf5\\xd5\\x95\\xe7|\\x1f\\x14j\\x17Q\\xa1\\x9b\\xab\\xb2\\x80\\xee\\xcd^\\x07\\xf2\\x14\\xf6\\xc7\\xf5q\\xeaw\\xf71\\xe3\\xe1\\xfd\\x94\\x07\\xd4=\\xfb#O\\xef\\r\\xc8N t\\xfd\\x82\\x93\\x82\\xe2l\\xa1\\xc4!\\x9f?Q\\xae\\xeb\\x81\\xf7x\\xa4\\xca\\xb5chlSJv\\xce\\xa9WZ\\xc6\\xf5a\\x8d\\xa4\\x86\\x92\\xe79\\xc0\\x13\\xc8,\\x8e\\xd1cp:\\xba!O\\x04\\xd9\\xe2fW\\x12\\xdb4\\x1f\\xaf\\x82\\xd0\\xfb\\xbd-{\\xd9.w\\xb4\\x86X\\x16\\xb8\\x0b\\xddUb4U\\x0f=\\x13\\xa2\\xb4A\\xd6\\x0f\\xf7\\xa7z\\xd8X.DR\\xec\\xebNO\\xa6\\x158\\xacU\\x98a{\\x18\\x03\\xc0\\xd7/z\\xc8>\\x07?\\x10\\xf7\\x92\\xee\\xccn\\x05\\xb6\\xde\\r\\x95\\xec\\x92RPS>\\x9a\\x9d\\x9dk\\xeb\\xad\\xee\\xb3\\xf2\\xd4g\\x95\\xc6\\xf6\\xb9\\xd1[\\x86\\x1a\\xa6\\x92(\\xcd\\x96\\xe3ls\\xa4w\\xdep\\xf3@\\x95\\xe3\\xed\\xbf\\xd4\\xa6\\x84\\x97\\xe2\\x17\\x99\\xd7os\\x9d\\xb3$\\xb6\\xaaFu\\x9a\\xf7\\\\\\x0e$\\xac\\xc5t\\xce\\xa8\\xc6\\xb3\\xc9\\xbc\\xe5\\xdc\\xaf\\x9e\\xf1\\x90\\xf8,\\xedE\\xbf\\n^\\xff\\x00uU\\x95\\xbd5\\xd0\\x8d+.\\xe9\\x85\\xb3im\\xc9\\xe5\\x12\\x85\\xd9\\x9c\\xff\\x00%-$Zka\\xe0\\xb6\\x04!\\t\\x87\\x04!\\x08\\x00B\\x10\\x80\\x05\\xe3\\x89h\\xb8\\xde\\xbd^<\\x12,\\x10@\\t\\x1f\\xc4\\x8fD\\xa7<\\xdb\\\\\\xbe\\x89\\xb0\\x08({\\xad\\xbd\\x0e\\xe8\\x82N%\\xae\\xcb\\xd1\\x02\\x00\\x06\\xb9\\xe7\\xf9J\\xa7\\x11\\xb0\\x8dl\\xad\\xb1)\\xa2v\\x03CN\\xd9\\x1aeeL\\x8fs\\x01\\xd4\\x0bX\\x15k\\xec\\xf2\\x82\\x92|JLS\\x17{b\\xc3p\\xc6\\x89ds\\xfb.\\x7f\\xd8\\x1f\\x02|\\x82\\xaeY\\x12E}\\x96\\xf8~\\x1b\\x89axE3k\\\\\\xe6\\xc9$fFGn\\xb4L\\xbe\\x97\\xff\\x00\\x8e\\n\\xb2\\xb7\\x11\\xaf~h\\x9bP\\xd2\\xdd\\xc4\\xea\\x17I\\xc5\\xea\\xa8\\xea\\xa3\\xa0\\xc4\\xe3\\xb9\\xa7\\x9c\\xb5\\x8ds\\x9aZr\\xb8ipE\\xc6\\xa0\\r{\\xd5]^\\xce\\xd3\\xd4J\\x1fk\\x0e\\xec\\xb7\\xfa\\xaed\\xe7RgK\\x145Ansa\\x04\\xae9s9\\xee;\\xdc\\x9a\\xc4\\xe8\\x8d.\\x1b\\xefn\\x16\\r\\x9d\\xb1\\x01\\xdfv\\xb8\\x9f\\x90\\xf5]-\\xbb9\\x01\\x91\\xb0R\\xb1\\xc6g\\x9br\\x1c\\xcf%\\x8d\\xf6\\x8a\\xd8ij\\xe1\\xc1\\xa9\\x1f\\x9a\\x1aA\\x9aW\\xdbY%wh\\xfd<\\x93\\xe0\\x94\\x9c\\xed\\x15y:a\\x1a\\xed\\x99\\xb8`t\\xa0:>\\xb0;\\x88K0\\xbd\\xbb\\xda~!C\\x86I\\x1b0l/ \\x81s\\xa6\\x97R\\xdbX\\xf3\\xf9\\xdb\\xdf\\x89i]X\\xe7]\\x98\\x15\\r\\xc8\\xe2\\xc0o\\x1b\\x88\\xe3\\xd6TU\\'>/\\x9a0\\xe6\\xb4\\x16\\xdc\\x13~\\x0bC<\\x8e\\xe8\\x9cD\\xba[\\xbdg\\xfaG\\xbb\\x11p/\\xbd\\xdc>J3\\xc9J$\\xd6\\xe5\\xce\\x1fl\\xd2[\\xb8)\\x8a\\x16\\x1e,\\xe9<\\x02\\x9a\\xaa\\xc5\\xea\\x8bc\\xc0!\\x08V\\x8c\\x08B\\x10\\x00\\x84!\\x00\\x0b\\xc7\\x1b\\x05\\xeaL\\x9d\\x94\\x10\\xc0\\xbb\\x99P_!\\x99\\xee{\\x8fP\\x1b4w\\xf3R&vF\\x92O\\r\\x130\\xc7r\\xc6\\x9d\\xcd\\x03Nj\\x8c\\x92ob\\xa9\\xba\\x08\\xe2s\\xb5-\\xbd\\xfb\\xd7D\\xf6i\\xb3g\\x1b\\x84\\x9cE\\xb9\\xb0\\xaaJ\\x8e\\x95\\xb1p\\x9a|\\xa0u\\xbb\\xc3E\\x8f\\x89X\\xc6G#\\xdc\\xc8\\xa1fi\\x1eC\\x18\\xd1\\xc5\\xc7@\\x17\\xd0\\x9b=\\x84\\xc5\\x81\\xe0\\xb4\\xb8|V=\\x13:\\xee\\x1fi\\xe7W\\x1fUFGJ\\x85\\x8e\\xe7\\x95\\xf8%\\x15e\\x08\\xa4tY#\\x0e\\x0e\\x01\\x9c\\x08\\xe2<\\xd4H\\xa9g2\\xba\\x97\\xa3\\xb1\\x8e\\xc0\\xbc\\x8b\\x02-\\xa1W\\x9b\\xf4^>0\\xd2n\\xf7\\x9f\\xdaY\\x9cm\\x9a!\\x9aPT\\x8a\\x81\\x1c\\xd4o\\xfc\\x96\\x98=\\xce6|\\xb2\\x1b_\\x90\\xb2\\xe0x\\xe5g\\xbe\\xe35\\x95=\\xa6\\xbeg\\x16\\xeb}/\\xa2\\xee\\x9bg\\x88\\x8c+f\\xf1\\n\\xc6\\x9c\\xaflF8\\xbf]\\xe7(\\xf9\\xfc\\x17\\xcf.wF\\xc2@\\xdd\\xb8|\\x96\\x8cIQFI\\xb9;b#.|\\xf2:\\xfdV\\x90\\xd1\\xdc{\\xcat\\xf7\\xa4F\\xde\\x8e0\\xdd\\xfc\\xfb\\xd2\\x8e\\x8a\\xd2\\xb3\\xc3\\xae\\x87\\xc5@\\xb8mK\\x1e\\xd6\\xb4\\x1b\\xeba\\xbdM\\'C\\xe0\\xa3>0\\xde\\xb5\\xb5QmpJ,(\\x9f\\x99\\xcf\\xd0\\x0b[pR\\x94\\x0c0\\xdc\\xcb\\xe0\\x14\\xf5~\\'q4C\\x80B\\x10\\xac\\x18\\x10\\x84 \\x01\\x08B\\x00\\x12d\\xec\\x14\\xa4\\x99;\\x05C\\x02\\xb3\\x13\\x97\\'D\\xc1\\xc5\\xd7*V\\x1eo+\\x89\\xd4\\xaaLRb\\xfa\\x97\\xeb\\xa3N_O\\xee\\xad\\xf0\\xb2\\\\nx0z\\xac\\xba\\xaeFy\\x1b\\x7fg\\x14\"\\xbflh\\xc3\\xc5\\xd9J\\xc7T;M.4\\x1f\\x12=\\x17r:\\x85\\xca}\\x8b\\xc2\\x1f\\x88b\\x95G{cdm\\xf37? \\xba\\xb1*\\x8c\\xae\\xe4Lx\\x06\\x0b\\x12\\x92\\xf1r\\xbdgf\\xeb\\xc1\\xbfUY\\'0\\xf6\\xd3\\x88\\xe4\\xa5\\xc3\\xf0\\xa8\\xddc#\\x8c\\xf2\\x0eCF\\xdf\\xcc\\x9fE\\xc9\\x9f\\xd6\\x91\\xad\\xe0:\\xc6\\xdf\\x0f\\xfb\\xc9j\\xfd\\xa5W\\xfe\\x10\\xdb\\x1a\\xe2\\r\\xe3\\xa7-\\x81\\x9f\\xb25\\xfeb\\xe5\\x91\\x8d\\xd7k\\xa4\\xd3\\xaen<8-PU\\x12\\xb7\\xc8\\xe1)\\x0e\\x7fU6\\xe9\\x06\\xed|\\x93/\\x98\\x0b\\ru6\\xdc\\x98\\t\\x0eu\\xc1\\xb7zK\\xb5\\x1c\\xd2Z\\xec\\xc0\\xd8ku\\xee\\x83y\\xb9P@\\xfe\\x15\\xdb\\x9b\\xc9X(Xwj_\\x00\\xa6\\xab\\xf1\\xfa\\x9aa\\xc0!\\x08V\\x0c\\x08B\\x10\\x00\\x84!\\x00\\t\\xb9\\xdc\\x19\\x0b\\x9cw\\x01t\\xe2\\x8f_\\xad$\\x8d\\xe0\\xee\\xa9\\xe4\\x96N\\x93!\\xf0eeq{\\x89;\\xc9Z<?N\\x97\\x95\\x82\\xab41f\\xde\\xff\\x00U1\\x92:\"Z\\xcbu\\x8e\\xa4\\x85\\x8a2\\xdc\\xa1\\x9dg\\xd8\\xe5Sb\\xf7\\xc8w\\xc9)\\xcdn\\xe0,>\\xab\\xa9\\xb9\\xc7-\\xbe\\xd1_5\\xec\\xee\\xd4\\xd7\\xec\\xdc\\xb2T\\xd0\\xb2\\x9d\\xefx\\xb1\\x130\\x907n\\xb1\\x1d\\xcbG\\xfem\\xed\\x1174\\xf8w\\xf0\\x9f\\xfdi\\'\\xbb\\x19\\x1d\\xd4h\\xc09(\\xd5\\x95L\\xa4\\xa4\\x9a\\xa6SfB\\xc7=\\xde\\x00]qS\\xed{h\\xf7{\\xbe\\x1b\\xfc\\x17\\xff\\x00Z\\x83\\x8a\\xfbM\\xc7q<:\\xa2\\x86xhY\\x15CLotq\\xb8;)\\xdfc\\x99\"@\\xcc\\xae/X\\xf9L\\xd3H\\xe3\\xd3T<\\x92y\\x93s\\xf5L\\xb7\\xf3`p\\xb2nv\\t\\xa4k\\x9eOWp\\xe0\\x12\\xf9-)\\x95\\x8d\\x9b\\x02\\xa3\\xc9\\xa4\\x97R\\xb2\\xdco)\\xb3\\x0b_\\xa9%\\x16I\\xed+\\xbf\\x16\\xeeo?D\\xe6n\\x02\\xd7\\xe1t\\x88\\xa2\\x0c\\x04\\x02m{\\xea\\x97|\\xa2\\xc3\\xd7\\x8a\\x84\\xc8\\xa2n\\x1f\\xda\\x90\\x17\\x02\\xeb\\x0b\\x8e\\xe55A\\xc3\\x18\\x19\\xd2\\xdb\\xcc\\xf7\\xa9\\xcbV?SD=A\\x08Bq\\x81\\x08B\\x00\\xff\\xd9'"
      ]
     },
     "execution_count": 28,
     "metadata": {},
     "output_type": "execute_result"
    }
   ],
   "source": [
    "requests.get(images_tages[1]['src']).content"
   ]
  },
  {
   "cell_type": "code",
   "execution_count": null,
   "id": "25504473-c99d-4cc2-b035-02cef63a738f",
   "metadata": {},
   "outputs": [],
   "source": []
  }
 ],
 "metadata": {
  "kernelspec": {
   "display_name": "Python 3 (ipykernel)",
   "language": "python",
   "name": "python3"
  },
  "language_info": {
   "codemirror_mode": {
    "name": "ipython",
    "version": 3
   },
   "file_extension": ".py",
   "mimetype": "text/x-python",
   "name": "python",
   "nbconvert_exporter": "python",
   "pygments_lexer": "ipython3",
   "version": "3.10.8"
  }
 },
 "nbformat": 4,
 "nbformat_minor": 5
}
